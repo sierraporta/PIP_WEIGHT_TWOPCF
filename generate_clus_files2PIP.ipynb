{
 "cells": [
  {
   "cell_type": "code",
   "execution_count": 24,
   "metadata": {},
   "outputs": [],
   "source": [
    "import numpy as np\n",
    "import matplotlib.pyplot as plt\n",
    "import pandas as pd\n",
    "import fitsio as F\n",
    "from desitarget.targetmask import obsconditions, bgs_mask, desi_mask\n",
    "from astropy.table import Table, join\n",
    "import glob, os\n",
    "from random import random\n",
    "import math\n",
    "import h5py"
   ]
  },
  {
   "cell_type": "code",
   "execution_count": 2,
   "metadata": {},
   "outputs": [],
   "source": [
    "def select_cat_dat(cat):\n",
    "    path=\"/global/cfs/cdirs/desi/datachallenge/onepercent/targets/\"\n",
    "    if cat=='BGS':\n",
    "        targ=F.read(path+\"mtl-bright.fits\",columns=[\"TARGETID\",\"RA\",\"DEC\",\"FLUX_G\",\"FLUX_R\",\"FLUX_Z\",\"NOBS_G\",\"NOBS_R\",\"NOBS_Z\",\"DESI_TARGET\",\"BGS_TARGET\",\"MWS_TARGET\"])\n",
    "        truth=F.read(path+\"truth-bright.fits\",ext=1,columns=[\"TARGETID\",\"TRUEZ\",\"TRUESPECTYPE\",\"TEMPLATETYPE\"])\n",
    "        truth=truth[truth[\"TEMPLATETYPE\"]=='BGS       ']\n",
    "        sel = (targ[\"DESI_TARGET\"] & desi_mask[\"BGS_ANY\"]) > 0\n",
    "        targ = targ[sel]\n",
    "        #targ=targ[targ[\"DESI_TARGET\"]==desi_mask.mask(\"BGS_ANY\")]\n",
    "    if cat=='LRG':\n",
    "        targ=F.read(path+\"mtl-dark.fits\",columns=[\"TARGETID\",\"RA\",\"DEC\",\"FLUX_G\",\"FLUX_R\",\"FLUX_Z\",\"NOBS_G\",\"NOBS_R\",\"NOBS_Z\",\"DESI_TARGET\",\"BGS_TARGET\",\"MWS_TARGET\"])\n",
    "        truth=F.read(path+\"truth-dark.fits\",ext=1,columns=[\"TARGETID\",\"TRUEZ\",\"TRUESPECTYPE\",\"TEMPLATETYPE\"])\n",
    "        truth=truth[truth[\"TEMPLATETYPE\"]=='LRG       ']\n",
    "        sel = (targ[\"DESI_TARGET\"] & desi_mask[\"LRG\"]) > 0\n",
    "        targ = targ[sel]\n",
    "        #targ=targ[targ[\"DESI_TARGET\"]==desi_mask.mask(\"LRG\")]\n",
    "    if cat=='QSO':\n",
    "        targ=F.read(path+\"mtl-dark.fits\",columns=[\"TARGETID\",\"RA\",\"DEC\",\"FLUX_G\",\"FLUX_R\",\"FLUX_Z\",\"NOBS_G\",\"NOBS_R\",\"NOBS_Z\",\"DESI_TARGET\",\"BGS_TARGET\",\"MWS_TARGET\"])\n",
    "        truth=F.read(path+\"truth-dark.fits\",ext=1,columns=[\"TARGETID\",\"TRUEZ\",\"TRUESPECTYPE\",\"TEMPLATETYPE\"])\n",
    "        truth=truth[truth[\"TEMPLATETYPE\"]=='QSO       ']\n",
    "        sel = (targ[\"DESI_TARGET\"] & desi_mask[\"QSO\"]) > 0\n",
    "        targ = targ[sel]\n",
    "        #targ=targ[targ[\"DESI_TARGET\"]==desi_mask.mask(\"QSO\")]\n",
    "    if cat=='ELG':\n",
    "        targ=F.read(path+\"mtl-dark.fits\",columns=[\"TARGETID\",\"RA\",\"DEC\",\"FLUX_G\",\"FLUX_R\",\"FLUX_Z\",\"NOBS_G\",\"NOBS_R\",\"NOBS_Z\",\"DESI_TARGET\",\"BGS_TARGET\",\"MWS_TARGET\"])\n",
    "        truth=F.read(path+\"truth-dark.fits\",ext=1,columns=[\"TARGETID\",\"TRUEZ\",\"TRUESPECTYPE\",\"TEMPLATETYPE\"])\n",
    "        truth=truth[truth[\"TEMPLATETYPE\"]=='ELG       ']\n",
    "        sel = (targ[\"DESI_TARGET\"] & desi_mask[\"ELG\"]) > 0\n",
    "        targ = targ[sel]\n",
    "        #targ=targ[targ[\"DESI_TARGET\"]==desi_mask.mask(\"ELG\")]\n",
    "    targ=Table(targ)\n",
    "    truth=Table(truth)\n",
    "    all_tar=join(targ,truth)\n",
    "    # Keep cols: [\"RA\",\"DEC\",\"TARGETID\",\"TRUEZ\"]\n",
    "    #all_tar=all_tar[\"RA\",\"DEC\",\"TARGETID\",\"TRUEZ\"]\n",
    "    all_tar.rename_column('TRUEZ', 'Z')\n",
    "    rmag=np.where(all_tar[\"FLUX_R\"]>0,22.-2.5*np.log10(all_tar[\"FLUX_R\"]),0)\n",
    "    all_tar[\"RMAG\"]=rmag\n",
    "    return all_tar"
   ]
  },
  {
   "cell_type": "code",
   "execution_count": 3,
   "metadata": {},
   "outputs": [],
   "source": [
    "def get_bitweights(array):\n",
    "    \"\"\"\n",
    "    Creates an array of bitwise weights stored as 64-bit signed integers\n",
    "    Input: a 2D boolean array of shape (Ngal, Nreal), where Ngal is the total number \n",
    "           of target galaxies, and Nreal is the number of fibre assignment realizations.\n",
    "    Output: returns a 2D array of 64-bit signed integers. \n",
    "    \"\"\"\n",
    "    Nbits=64\n",
    "    dtype=np.int64\n",
    "    Ngal, Nreal = array.shape           # total number of realizations and number of target galaxies\n",
    "    Nout = (Nreal + Nbits - 1) // Nbits # number of output columns\n",
    "    # intermediate arrays\n",
    "    bitw8 = np.zeros((Ngal, 8), dtype=\"i\")   # array of individual bits of 8 realizations\n",
    "    bitweights = np.zeros(Ngal, dtype=dtype) # array of 64-bit integers\n",
    "    # array to store final output\n",
    "    output_array = np.zeros((Ngal, Nout), dtype=dtype)\n",
    "    idx_out = 0 # initial column in output_array\n",
    "    # loop through realizations to build bitwise weights\n",
    "    for i in range(Nreal):\n",
    "        bitw8[array[:,i], i%8] = 1\n",
    "        arr = np.array(np.packbits(bitw8[:,::-1]), dtype=dtype)\n",
    "        bitweights = np.bitwise_or(bitweights, np.left_shift(arr, 8*((i%Nbits)//8)))\n",
    "        if (i+1)%Nbits == 0 or i+1 == Nreal:\n",
    "            output_array[:,idx_out] = bitweights\n",
    "            bitweights[:] = 0\n",
    "            idx_out += 1\n",
    "        if (i+1)%8 == 0:\n",
    "            bitw8[:] = 0\n",
    "    return output_array"
   ]
  },
  {
   "cell_type": "code",
   "execution_count": 4,
   "metadata": {},
   "outputs": [],
   "source": [
    "def select_cat_ran(cat):\n",
    "    path=\"/global/cfs/cdirs/desi/datachallenge/onepercent/catalogs/\"\n",
    "    columns=['TARGETID','RA','DEC','BRICKNAME','NOBS_G','NOBS_R','NOBS_Z','HPXPIXEL','DESI_TARGET','NUMOBS_INIT','PRIORITY','OBSCONDITIONS']\n",
    "    if cat=='BGS':\n",
    "        randoms=Table(F.read(path+\"bright/randoms_mtl_cuttod.fits\",columns=columns))\n",
    "    if cat=='LRG':\n",
    "        randoms=Table(F.read(path+\"dark/randoms_mtl_cuttod.fits\",columns=columns))\n",
    "    if cat=='QSO':\n",
    "        randoms=Table(F.read(path+\"dark/randoms_mtl_cuttod.fits\",columns=columns))    \n",
    "    if cat=='ELG':\n",
    "        randoms=Table(F.read(path+\"gray/randoms_mtl_cuttod.fits\",columns=columns))\n",
    "    return randoms"
   ]
  },
  {
   "cell_type": "code",
   "execution_count": 5,
   "metadata": {},
   "outputs": [],
   "source": [
    "#data=select_cat_dat('BGS')\n",
    "#randoms=select_cat_ran('BGS')"
   ]
  },
  {
   "cell_type": "code",
   "execution_count": 6,
   "metadata": {},
   "outputs": [],
   "source": [
    "def generate_pip_files(cat,realizations=2):\n",
    "    data=select_cat_dat(cat)\n",
    "    randoms=select_cat_ran(cat)\n",
    "    if cat=='BGS':\n",
    "        path='fiberassign_pip/bgs/fba_bright_targets_BGS'\n",
    "    if cat=='LRG':\n",
    "        path='fiberassign_pip/lrg/fba_dark_targets_LRG'\n",
    "    if cat=='QSO':\n",
    "        path='fiberassign_pip/qso/fba_dark_targets_QSO'\n",
    "    if cat=='ELG':\n",
    "        path='fiberassign_pip/elg/fba_dark_targets_ELG'\n",
    "    for i in range(realizations):\n",
    "        fba_files = glob.glob(path+str(i)+\"/fba*.fits\")\n",
    "        allavail_tar=np.concatenate([F.read(f,ext=\"FAVAIL\") for f in fba_files])\n",
    "        allassign_tar=np.concatenate([F.read(f,ext=\"FASSIGN\",columns=[\"FIBER\",\"TARGETID\",\"LOCATION\",\"FIBERSTATUS\"]) for f in fba_files])\n",
    "        isas=np.zeros(len(data),dtype=bool)\n",
    "        idas=np.isin(data[\"TARGETID\"], allassign_tar[\"TARGETID\"])\n",
    "        isas[idas] = True\n",
    "        data[\"ISASS_\"+str(i)]=isas\n",
    "    isav=np.zeros(len(data),dtype=bool)\n",
    "    idav=np.isin(data[\"TARGETID\"], allavail_tar[\"TARGETID\"])\n",
    "    isav[idav] = True\n",
    "    data[\"ISAVAIL\"]=isav\n",
    "    \n",
    "    parent=data[data[\"ISAVAIL\"]==True]\n",
    "    targeted=parent[parent[\"ISASS_0\"]==True]\n",
    "    col=[\"ISASS_\"+str(i) for i in range(realizations)]\n",
    "    targeted[\"wi\"]=np.sum(targeted[\"ISASS_\"+str(i)] for i in range(realizations))\n",
    "    parent[\"wi\"]=np.sum(parent[\"ISASS_\"+str(i)] for i in range(realizations))\n",
    "    \n",
    "    nd=len(parent)\n",
    "    randoms[\"Z\"]=np.zeros(len(randoms))\n",
    "\n",
    "    for i in range(0,len(randoms)):\n",
    "        ind=int(random()*nd)\n",
    "        randoms[\"Z\"][i]=parent[\"Z\"][ind]\n",
    "\n",
    "    a=get_bitweights(np.array([targeted[\"ISASS_\"+str(i)] for i in range(realizations)]).T)\n",
    "\n",
    "    for i in range(a.shape[1]):\n",
    "        targeted[\"BITWEIGHT\"+str(i)]=a[:,i]\n",
    "        parent[\"BITWEIGHT\"+str(i)]=np.ones(len(parent),dtype=int)*-1\n",
    "        randoms[\"BITWEIGHT\"+str(i)]=np.ones(len(randoms),dtype=int)*-1\n",
    "    \n",
    "    # columns to keep..\n",
    "    base_cols1=[\"RA\",\"DEC\",\"Z\",\"RMAG\"]\n",
    "    base_cols2=[\"RA\",\"DEC\",\"Z\"]\n",
    "    keep_cols=[col for col in targeted.colnames if 'BITWEIGHT' in col]\n",
    "    all_cols1=base_cols1+keep_cols\n",
    "    all_cols2=base_cols2+keep_cols\n",
    "    parent0=parent[all_cols1]\n",
    "    targeted0=targeted[all_cols1]\n",
    "    randoms0=randoms[all_cols2]\n",
    "    #targeted1=targeted0[targeted0[\"BITWEIGHT0\"]%2==1]\n",
    "    return parent0, targeted0, randoms0, targeted"
   ]
  },
  {
   "cell_type": "code",
   "execution_count": 7,
   "metadata": {},
   "outputs": [
    {
     "name": "stderr",
     "output_type": "stream",
     "text": [
      "<ipython-input-6-f1ac99990736>:28: DeprecationWarning: Calling np.sum(generator) is deprecated, and in the future will give a different result. Use np.sum(np.fromiter(generator)) or the python sum builtin instead.\n",
      "  targeted[\"wi\"]=np.sum(targeted[\"ISASS_\"+str(i)] for i in range(realizations))\n",
      "<ipython-input-6-f1ac99990736>:29: DeprecationWarning: Calling np.sum(generator) is deprecated, and in the future will give a different result. Use np.sum(np.fromiter(generator)) or the python sum builtin instead.\n",
      "  parent[\"wi\"]=np.sum(parent[\"ISASS_\"+str(i)] for i in range(realizations))\n"
     ]
    }
   ],
   "source": [
    "BGS=generate_pip_files('BGS',128)"
   ]
  },
  {
   "cell_type": "code",
   "execution_count": 8,
   "metadata": {},
   "outputs": [
    {
     "name": "stderr",
     "output_type": "stream",
     "text": [
      "<ipython-input-6-f1ac99990736>:28: DeprecationWarning: Calling np.sum(generator) is deprecated, and in the future will give a different result. Use np.sum(np.fromiter(generator)) or the python sum builtin instead.\n",
      "  targeted[\"wi\"]=np.sum(targeted[\"ISASS_\"+str(i)] for i in range(realizations))\n",
      "<ipython-input-6-f1ac99990736>:29: DeprecationWarning: Calling np.sum(generator) is deprecated, and in the future will give a different result. Use np.sum(np.fromiter(generator)) or the python sum builtin instead.\n",
      "  parent[\"wi\"]=np.sum(parent[\"ISASS_\"+str(i)] for i in range(realizations))\n"
     ]
    }
   ],
   "source": [
    "LRG=generate_pip_files('LRG',128)"
   ]
  },
  {
   "cell_type": "code",
   "execution_count": 9,
   "metadata": {},
   "outputs": [
    {
     "name": "stderr",
     "output_type": "stream",
     "text": [
      "<ipython-input-6-f1ac99990736>:28: DeprecationWarning: Calling np.sum(generator) is deprecated, and in the future will give a different result. Use np.sum(np.fromiter(generator)) or the python sum builtin instead.\n",
      "  targeted[\"wi\"]=np.sum(targeted[\"ISASS_\"+str(i)] for i in range(realizations))\n",
      "<ipython-input-6-f1ac99990736>:29: DeprecationWarning: Calling np.sum(generator) is deprecated, and in the future will give a different result. Use np.sum(np.fromiter(generator)) or the python sum builtin instead.\n",
      "  parent[\"wi\"]=np.sum(parent[\"ISASS_\"+str(i)] for i in range(realizations))\n"
     ]
    }
   ],
   "source": [
    "ELG=generate_pip_files('ELG',128)"
   ]
  },
  {
   "cell_type": "code",
   "execution_count": 12,
   "metadata": {},
   "outputs": [
    {
     "data": {
      "text/html": [
       "<i>Table length=2966046</i>\n",
       "<table id=\"table46913249243296\" class=\"table-striped table-bordered table-condensed\">\n",
       "<thead><tr><th>RA</th><th>DEC</th><th>Z</th><th>BITWEIGHT0</th><th>BITWEIGHT1</th></tr></thead>\n",
       "<thead><tr><th>float64</th><th>float64</th><th>float64</th><th>int64</th><th>int64</th></tr></thead>\n",
       "<tr><td>6.21848473902398</td><td>7.284267317730249</td><td>0.25884509086608887</td><td>-1</td><td>-1</td></tr>\n",
       "<tr><td>115.15158008450615</td><td>27.302728827147224</td><td>0.344650000333786</td><td>-1</td><td>-1</td></tr>\n",
       "<tr><td>16.084427054953565</td><td>5.2305258313852345</td><td>0.23235926032066345</td><td>-1</td><td>-1</td></tr>\n",
       "<tr><td>3.576222428472608</td><td>4.831808487476173</td><td>0.18943652510643005</td><td>-1</td><td>-1</td></tr>\n",
       "<tr><td>119.7874436440232</td><td>28.52975579427368</td><td>0.17299695312976837</td><td>-1</td><td>-1</td></tr>\n",
       "<tr><td>15.491440984871481</td><td>0.3093129124309112</td><td>0.14450670778751373</td><td>-1</td><td>-1</td></tr>\n",
       "<tr><td>113.49696483190469</td><td>35.8370534896702</td><td>0.3511914014816284</td><td>-1</td><td>-1</td></tr>\n",
       "<tr><td>2.2973137600455686</td><td>0.09410391454029275</td><td>0.2984442710876465</td><td>-1</td><td>-1</td></tr>\n",
       "<tr><td>118.75721413033553</td><td>35.06152454012639</td><td>0.14659903943538666</td><td>-1</td><td>-1</td></tr>\n",
       "<tr><td>112.18046910115162</td><td>36.88705990687491</td><td>0.24081528186798096</td><td>-1</td><td>-1</td></tr>\n",
       "<tr><td>...</td><td>...</td><td>...</td><td>...</td><td>...</td></tr>\n",
       "<tr><td>110.96544780977182</td><td>32.38100868447971</td><td>0.15109790861606598</td><td>-1</td><td>-1</td></tr>\n",
       "<tr><td>13.71654619256547</td><td>0.37139964892584154</td><td>0.21000324189662933</td><td>-1</td><td>-1</td></tr>\n",
       "<tr><td>8.741217223564618</td><td>0.960398361918144</td><td>0.11062731593847275</td><td>-1</td><td>-1</td></tr>\n",
       "<tr><td>6.187068618462168</td><td>5.141586657840839</td><td>0.2164449542760849</td><td>-1</td><td>-1</td></tr>\n",
       "<tr><td>111.80608901530702</td><td>29.20625681306819</td><td>0.041556328535079956</td><td>-1</td><td>-1</td></tr>\n",
       "<tr><td>13.209596081715361</td><td>1.5360911540545277</td><td>0.24484924972057343</td><td>-1</td><td>-1</td></tr>\n",
       "<tr><td>15.128472367106115</td><td>3.900384486935636</td><td>0.16093741357326508</td><td>-1</td><td>-1</td></tr>\n",
       "<tr><td>12.689069022315403</td><td>1.3648990964450094</td><td>0.3124878704547882</td><td>-1</td><td>-1</td></tr>\n",
       "<tr><td>4.2798080002454135</td><td>7.516133579616798</td><td>0.46228182315826416</td><td>-1</td><td>-1</td></tr>\n",
       "<tr><td>14.001934167533381</td><td>4.214910194038553</td><td>0.26834824681282043</td><td>-1</td><td>-1</td></tr>\n",
       "</table>"
      ],
      "text/plain": [
       "<Table length=2966046>\n",
       "        RA                 DEC         ... BITWEIGHT0 BITWEIGHT1\n",
       "     float64             float64       ...   int64      int64   \n",
       "------------------ ------------------- ... ---------- ----------\n",
       "  6.21848473902398   7.284267317730249 ...         -1         -1\n",
       "115.15158008450615  27.302728827147224 ...         -1         -1\n",
       "16.084427054953565  5.2305258313852345 ...         -1         -1\n",
       " 3.576222428472608   4.831808487476173 ...         -1         -1\n",
       " 119.7874436440232   28.52975579427368 ...         -1         -1\n",
       "15.491440984871481  0.3093129124309112 ...         -1         -1\n",
       "113.49696483190469    35.8370534896702 ...         -1         -1\n",
       "2.2973137600455686 0.09410391454029275 ...         -1         -1\n",
       "118.75721413033553   35.06152454012639 ...         -1         -1\n",
       "112.18046910115162   36.88705990687491 ...         -1         -1\n",
       "               ...                 ... ...        ...        ...\n",
       "110.96544780977182   32.38100868447971 ...         -1         -1\n",
       " 13.71654619256547 0.37139964892584154 ...         -1         -1\n",
       " 8.741217223564618   0.960398361918144 ...         -1         -1\n",
       " 6.187068618462168   5.141586657840839 ...         -1         -1\n",
       "111.80608901530702   29.20625681306819 ...         -1         -1\n",
       "13.209596081715361  1.5360911540545277 ...         -1         -1\n",
       "15.128472367106115   3.900384486935636 ...         -1         -1\n",
       "12.689069022315403  1.3648990964450094 ...         -1         -1\n",
       "4.2798080002454135   7.516133579616798 ...         -1         -1\n",
       "14.001934167533381   4.214910194038553 ...         -1         -1"
      ]
     },
     "execution_count": 12,
     "metadata": {},
     "output_type": "execute_result"
    }
   ],
   "source": [
    "BGS[2]"
   ]
  },
  {
   "cell_type": "code",
   "execution_count": 13,
   "metadata": {},
   "outputs": [],
   "source": [
    "def writefiles(parent,targeted,randoms,cat,realizations=128,rmag=30):\n",
    "    rmag_cut1=targeted[\"RMAG\"]<=rmag\n",
    "    targeted=targeted[rmag_cut1]\n",
    "    rmag_cut2=parent[\"RMAG\"]<=rmag\n",
    "    parent=parent[rmag_cut2]\n",
    "    cols_bitweight=[col for col in targeted.colnames if 'BITWEIGHT' in col]\n",
    "    outdir=\"clus_files_pip2/\"\n",
    "    if not os.path.exists(outdir):\n",
    "        os.makedirs(outdir)\n",
    "    with h5py.File(outdir+'parent_'+cat+'.hdf5', 'w') as f:\n",
    "        f.create_dataset(\"RA\", data=parent[\"RA\"])\n",
    "        f.create_dataset(\"DEC\", data=parent[\"DEC\"])\n",
    "        f.create_dataset(\"Z\", data=parent[\"Z\"])\n",
    "        for i in range(math.ceil(realizations/64)):\n",
    "            f.create_dataset(\"BITWEIGHT\"+str(i), data=parent[\"BITWEIGHT\"+str(i)])\n",
    "    with h5py.File(outdir+'randoms_'+cat+'.hdf5', 'w') as f:\n",
    "        f.create_dataset(\"RA\", data=randoms[\"RA\"])\n",
    "        f.create_dataset(\"DEC\", data=randoms[\"DEC\"])\n",
    "        f.create_dataset(\"Z\", data=randoms[\"Z\"])\n",
    "        for i in range(math.ceil(realizations/64)):\n",
    "            f.create_dataset(\"BITWEIGHT\"+str(i), data=randoms[\"BITWEIGHT\"+str(i)])\n",
    "    with h5py.File(outdir+'targeted_'+cat+'.hdf5', 'w') as f:\n",
    "        f.create_dataset(\"RA\", data=targeted[\"RA\"])\n",
    "        f.create_dataset(\"DEC\", data=targeted[\"DEC\"])\n",
    "        f.create_dataset(\"Z\", data=targeted[\"Z\"])\n",
    "        for i in range(math.ceil(realizations/64)):\n",
    "            f.create_dataset(\"BITWEIGHT\"+str(i), data=targeted[\"BITWEIGHT\"+str(i)])\n",
    "\n",
    "def writefiles_iip(targeted,randoms,cat,realizations=128,rmag=25):\n",
    "    rmag_cut=targeted[\"RMAG\"]<=rmag\n",
    "    targeted=targeted[rmag_cut]\n",
    "    outdir=\"clus_files_pip2/\"\n",
    "    if not os.path.exists(outdir):\n",
    "        os.makedirs(outdir)\n",
    "    with h5py.File(outdir+'targeted_iip_'+cat+'.hdf5', 'w') as f:\n",
    "        f.create_dataset(\"RA\", data=targeted[\"RA\"])\n",
    "        f.create_dataset(\"DEC\", data=targeted[\"DEC\"])\n",
    "        f.create_dataset(\"Z\", data=targeted[\"Z\"])\n",
    "        f.create_dataset(\"weight\", data=targeted[\"wi\"]/realizations)\n",
    "    with h5py.File(outdir+'randoms_iip_'+cat+'.hdf5', 'w') as f:\n",
    "        f.create_dataset(\"RA\", data=randoms[\"RA\"])\n",
    "        f.create_dataset(\"DEC\", data=randoms[\"DEC\"])\n",
    "        f.create_dataset(\"Z\", data=randoms[\"Z\"])\n",
    "        f.create_dataset(\"weight\", data=np.ones(len(randoms)))"
   ]
  },
  {
   "cell_type": "code",
   "execution_count": 14,
   "metadata": {},
   "outputs": [],
   "source": [
    "writefiles(BGS[0],BGS[1],BGS[2],'bgs128_rmag19.0',128,19.0)\n",
    "writefiles_iip(BGS[3],BGS[2],'bgs128_rmag19.0',128,19.0)"
   ]
  },
  {
   "cell_type": "code",
   "execution_count": 12,
   "metadata": {},
   "outputs": [],
   "source": [
    "#writefiles(LRG[0],LRG[1],LRG[2],'lrg128_rmag25.0',128,25.0)\n",
    "#writefiles_iip(LRG[3],LRG[2],'lrg128_rmag25.0',128,25.0)"
   ]
  },
  {
   "cell_type": "code",
   "execution_count": 13,
   "metadata": {},
   "outputs": [],
   "source": [
    "#writefiles(ELG[0],ELG[1],ELG[2],'elg128_rmag25.0',128,25.0)\n",
    "#writefiles_iip(ELG[3],ELG[2],'elg128_rmag25.0',128,25.0)"
   ]
  },
  {
   "cell_type": "code",
   "execution_count": 14,
   "metadata": {},
   "outputs": [],
   "source": [
    "#print(np.unpackbits(np.array([n1], dtype=np.uint64).view(np.uint8)), np.count_nonzero(np.unpackbits(np.array([n1], dtype=np.uint64).view(np.uint8))))\n",
    "#print(np.unpackbits(np.array([n2], dtype=np.uint64).view(np.uint8)), np.count_nonzero(np.unpackbits(np.array([n2], dtype=np.uint64).view(np.uint8))))"
   ]
  },
  {
   "cell_type": "code",
   "execution_count": 15,
   "metadata": {},
   "outputs": [
    {
     "name": "stderr",
     "output_type": "stream",
     "text": [
      "<ipython-input-6-f1ac99990736>:28: DeprecationWarning: Calling np.sum(generator) is deprecated, and in the future will give a different result. Use np.sum(np.fromiter(generator)) or the python sum builtin instead.\n",
      "  targeted[\"wi\"]=np.sum(targeted[\"ISASS_\"+str(i)] for i in range(realizations))\n",
      "<ipython-input-6-f1ac99990736>:29: DeprecationWarning: Calling np.sum(generator) is deprecated, and in the future will give a different result. Use np.sum(np.fromiter(generator)) or the python sum builtin instead.\n",
      "  parent[\"wi\"]=np.sum(parent[\"ISASS_\"+str(i)] for i in range(realizations))\n"
     ]
    }
   ],
   "source": [
    "LRG112=generate_pip_files('LRG',112)"
   ]
  },
  {
   "cell_type": "code",
   "execution_count": 16,
   "metadata": {},
   "outputs": [
    {
     "name": "stderr",
     "output_type": "stream",
     "text": [
      "<ipython-input-6-f1ac99990736>:28: DeprecationWarning: Calling np.sum(generator) is deprecated, and in the future will give a different result. Use np.sum(np.fromiter(generator)) or the python sum builtin instead.\n",
      "  targeted[\"wi\"]=np.sum(targeted[\"ISASS_\"+str(i)] for i in range(realizations))\n",
      "<ipython-input-6-f1ac99990736>:29: DeprecationWarning: Calling np.sum(generator) is deprecated, and in the future will give a different result. Use np.sum(np.fromiter(generator)) or the python sum builtin instead.\n",
      "  parent[\"wi\"]=np.sum(parent[\"ISASS_\"+str(i)] for i in range(realizations))\n"
     ]
    }
   ],
   "source": [
    "LRG96=generate_pip_files('LRG',96)"
   ]
  },
  {
   "cell_type": "code",
   "execution_count": 17,
   "metadata": {},
   "outputs": [
    {
     "name": "stderr",
     "output_type": "stream",
     "text": [
      "<ipython-input-6-f1ac99990736>:28: DeprecationWarning: Calling np.sum(generator) is deprecated, and in the future will give a different result. Use np.sum(np.fromiter(generator)) or the python sum builtin instead.\n",
      "  targeted[\"wi\"]=np.sum(targeted[\"ISASS_\"+str(i)] for i in range(realizations))\n",
      "<ipython-input-6-f1ac99990736>:29: DeprecationWarning: Calling np.sum(generator) is deprecated, and in the future will give a different result. Use np.sum(np.fromiter(generator)) or the python sum builtin instead.\n",
      "  parent[\"wi\"]=np.sum(parent[\"ISASS_\"+str(i)] for i in range(realizations))\n"
     ]
    }
   ],
   "source": [
    "LRG80=generate_pip_files('LRG',80)"
   ]
  },
  {
   "cell_type": "code",
   "execution_count": 18,
   "metadata": {},
   "outputs": [
    {
     "name": "stderr",
     "output_type": "stream",
     "text": [
      "<ipython-input-6-f1ac99990736>:28: DeprecationWarning: Calling np.sum(generator) is deprecated, and in the future will give a different result. Use np.sum(np.fromiter(generator)) or the python sum builtin instead.\n",
      "  targeted[\"wi\"]=np.sum(targeted[\"ISASS_\"+str(i)] for i in range(realizations))\n",
      "<ipython-input-6-f1ac99990736>:29: DeprecationWarning: Calling np.sum(generator) is deprecated, and in the future will give a different result. Use np.sum(np.fromiter(generator)) or the python sum builtin instead.\n",
      "  parent[\"wi\"]=np.sum(parent[\"ISASS_\"+str(i)] for i in range(realizations))\n"
     ]
    }
   ],
   "source": [
    "LRG64=generate_pip_files('LRG',64)"
   ]
  },
  {
   "cell_type": "code",
   "execution_count": 19,
   "metadata": {},
   "outputs": [
    {
     "name": "stderr",
     "output_type": "stream",
     "text": [
      "<ipython-input-6-f1ac99990736>:28: DeprecationWarning: Calling np.sum(generator) is deprecated, and in the future will give a different result. Use np.sum(np.fromiter(generator)) or the python sum builtin instead.\n",
      "  targeted[\"wi\"]=np.sum(targeted[\"ISASS_\"+str(i)] for i in range(realizations))\n",
      "<ipython-input-6-f1ac99990736>:29: DeprecationWarning: Calling np.sum(generator) is deprecated, and in the future will give a different result. Use np.sum(np.fromiter(generator)) or the python sum builtin instead.\n",
      "  parent[\"wi\"]=np.sum(parent[\"ISASS_\"+str(i)] for i in range(realizations))\n"
     ]
    }
   ],
   "source": [
    "LRG48=generate_pip_files('LRG',48)"
   ]
  },
  {
   "cell_type": "code",
   "execution_count": 20,
   "metadata": {},
   "outputs": [
    {
     "name": "stderr",
     "output_type": "stream",
     "text": [
      "<ipython-input-6-f1ac99990736>:28: DeprecationWarning: Calling np.sum(generator) is deprecated, and in the future will give a different result. Use np.sum(np.fromiter(generator)) or the python sum builtin instead.\n",
      "  targeted[\"wi\"]=np.sum(targeted[\"ISASS_\"+str(i)] for i in range(realizations))\n",
      "<ipython-input-6-f1ac99990736>:29: DeprecationWarning: Calling np.sum(generator) is deprecated, and in the future will give a different result. Use np.sum(np.fromiter(generator)) or the python sum builtin instead.\n",
      "  parent[\"wi\"]=np.sum(parent[\"ISASS_\"+str(i)] for i in range(realizations))\n"
     ]
    }
   ],
   "source": [
    "LRG32=generate_pip_files('LRG',32)"
   ]
  },
  {
   "cell_type": "code",
   "execution_count": 21,
   "metadata": {},
   "outputs": [
    {
     "name": "stderr",
     "output_type": "stream",
     "text": [
      "<ipython-input-6-f1ac99990736>:28: DeprecationWarning: Calling np.sum(generator) is deprecated, and in the future will give a different result. Use np.sum(np.fromiter(generator)) or the python sum builtin instead.\n",
      "  targeted[\"wi\"]=np.sum(targeted[\"ISASS_\"+str(i)] for i in range(realizations))\n",
      "<ipython-input-6-f1ac99990736>:29: DeprecationWarning: Calling np.sum(generator) is deprecated, and in the future will give a different result. Use np.sum(np.fromiter(generator)) or the python sum builtin instead.\n",
      "  parent[\"wi\"]=np.sum(parent[\"ISASS_\"+str(i)] for i in range(realizations))\n"
     ]
    }
   ],
   "source": [
    "LRG16=generate_pip_files('LRG',16)"
   ]
  },
  {
   "cell_type": "code",
   "execution_count": 22,
   "metadata": {},
   "outputs": [],
   "source": [
    "writefiles(LRG112[0],LRG112[1],LRG112[2],'lrg112_rmag25.0',112,25.0)\n",
    "writefiles(LRG96[0],LRG96[1],LRG96[2],'lrg96_rmag25.0',96,25.0)\n",
    "writefiles(LRG80[0],LRG80[1],LRG80[2],'lrg80_rmag25.0',80,25.0)\n",
    "writefiles(LRG64[0],LRG64[1],LRG64[2],'lrg64_rmag25.0',64,25.0)\n",
    "writefiles(LRG48[0],LRG48[1],LRG48[2],'lrg48_rmag25.0',48,25.0)\n",
    "writefiles(LRG32[0],LRG32[1],LRG32[2],'lrg32_rmag25.0',32,25.0)\n",
    "writefiles(LRG16[0],LRG16[1],LRG16[2],'lrg16_rmag25.0',16,25.0)"
   ]
  },
  {
   "cell_type": "code",
   "execution_count": 11,
   "metadata": {},
   "outputs": [],
   "source": [
    "def generate_pip_files_ran(cat,realizations=2):\n",
    "    randoms=select_cat_ran(cat)\n",
    "    data=select_cat_dat(cat)\n",
    "\n",
    "    if cat=='BGS':\n",
    "        path='fiberassign_pip/bgs_ran/fba_bright_randoms_BGS'\n",
    "    if cat=='LRG':\n",
    "        path='fiberassign_pip/lrg_ran/fba_bright_randoms_LRG'\n",
    "    if cat=='ELG':\n",
    "        path='fiberassign_pip/elg_ran/fba_bright_randoms_ELG'\n",
    "    for i in range(realizations):\n",
    "        fba_files = glob.glob(path+str(i)+\"/fba*.fits\")\n",
    "        allavail_ran=np.concatenate([F.read(f,ext=\"FAVAIL\") for f in fba_files])\n",
    "        allassign_ran=np.concatenate([F.read(f,ext=\"FASSIGN\",columns=[\"FIBER\",\"TARGETID\",\"LOCATION\",\"FIBERSTATUS\"]) for f in fba_files])\n",
    "        isas=np.zeros(len(randoms),dtype=bool)\n",
    "        idas=np.isin(randoms[\"TARGETID\"], allassign_ran[\"TARGETID\"])\n",
    "        isas[idas] = True\n",
    "        randoms[\"ISASS_\"+str(i)]=isas\n",
    "    isav=np.zeros(len(randoms),dtype=bool)\n",
    "    idav=np.isin(randoms[\"TARGETID\"], allavail_ran[\"TARGETID\"])\n",
    "    isav[idav] = True\n",
    "    randoms[\"ISAVAIL\"]=isav\n",
    "    \n",
    "    col=[\"ISASS_\"+str(i) for i in range(realizations)]\n",
    "    randoms[\"wi\"]=np.sum(randoms[\"ISASS_\"+str(i)] for i in range(realizations))\n",
    "    \n",
    "    nd=len(data)\n",
    "    randoms[\"Z\"]=np.zeros(len(randoms))\n",
    "\n",
    "    for i in range(0,len(randoms)):\n",
    "        ind=int(random()*nd)\n",
    "        randoms[\"Z\"][i]=data[\"Z\"][ind]\n",
    "\n",
    "    a=get_bitweights(np.array([randoms[\"ISASS_\"+str(i)] for i in range(realizations)]).T)\n",
    "\n",
    "    for i in range(a.shape[1]):\n",
    "        randoms[\"BITWEIGHT\"+str(i)]=a[:,i]\n",
    "        \n",
    "    # columns to keep..\n",
    "    base_cols2=[\"RA\",\"DEC\",\"Z\",\"wi\"]\n",
    "    keep_cols=[col for col in randoms.colnames if 'BITWEIGHT' in col]\n",
    "    all_cols2=base_cols2+keep_cols\n",
    "    randoms0=randoms[all_cols2]\n",
    "    #targeted1=targeted0[targeted0[\"BITWEIGHT0\"]%2==1]\n",
    "    return randoms0"
   ]
  },
  {
   "cell_type": "code",
   "execution_count": 12,
   "metadata": {},
   "outputs": [
    {
     "name": "stderr",
     "output_type": "stream",
     "text": [
      "<ipython-input-11-bfaa8a512015>:25: DeprecationWarning: Calling np.sum(generator) is deprecated, and in the future will give a different result. Use np.sum(np.fromiter(generator)) or the python sum builtin instead.\n",
      "  randoms[\"wi\"]=np.sum(randoms[\"ISASS_\"+str(i)] for i in range(realizations))\n"
     ]
    }
   ],
   "source": [
    "random_BGSiip=generate_pip_files_ran('BGS',realizations=128)"
   ]
  },
  {
   "cell_type": "code",
   "execution_count": 17,
   "metadata": {},
   "outputs": [
    {
     "name": "stderr",
     "output_type": "stream",
     "text": [
      "<ipython-input-11-bfaa8a512015>:25: DeprecationWarning: Calling np.sum(generator) is deprecated, and in the future will give a different result. Use np.sum(np.fromiter(generator)) or the python sum builtin instead.\n",
      "  randoms[\"wi\"]=np.sum(randoms[\"ISASS_\"+str(i)] for i in range(realizations))\n"
     ]
    }
   ],
   "source": [
    "random_ELGiip=generate_pip_files_ran('ELG',realizations=128)"
   ]
  },
  {
   "cell_type": "code",
   "execution_count": 18,
   "metadata": {},
   "outputs": [
    {
     "name": "stderr",
     "output_type": "stream",
     "text": [
      "<ipython-input-11-bfaa8a512015>:25: DeprecationWarning: Calling np.sum(generator) is deprecated, and in the future will give a different result. Use np.sum(np.fromiter(generator)) or the python sum builtin instead.\n",
      "  randoms[\"wi\"]=np.sum(randoms[\"ISASS_\"+str(i)] for i in range(realizations))\n"
     ]
    }
   ],
   "source": [
    "random_LRGiip=generate_pip_files_ran('LRG',realizations=128)"
   ]
  },
  {
   "cell_type": "code",
   "execution_count": 19,
   "metadata": {},
   "outputs": [
    {
     "data": {
      "text/plain": [
       "(119, 128, 121)"
      ]
     },
     "execution_count": 19,
     "metadata": {},
     "output_type": "execute_result"
    }
   ],
   "source": [
    "random_BGSiip[\"wi\"].max(), random_LRGiip[\"wi\"].max(), random_ELGiip[\"wi\"].max()"
   ]
  },
  {
   "cell_type": "code",
   "execution_count": 21,
   "metadata": {},
   "outputs": [],
   "source": [
    "def writefiles_iip_ran(randoms,cat,realizations=128):\n",
    "    outdir=\"clus_files_pip2/\"\n",
    "    if not os.path.exists(outdir):\n",
    "        os.makedirs(outdir)\n",
    "    with h5py.File(outdir+'randoms_iip2_'+cat+'.hdf5', 'w') as f:\n",
    "        f.create_dataset(\"RA\", data=randoms[\"RA\"])\n",
    "        f.create_dataset(\"DEC\", data=randoms[\"DEC\"])\n",
    "        f.create_dataset(\"Z\", data=randoms[\"Z\"])\n",
    "        f.create_dataset(\"weight\", data=randoms[\"wi\"]/realizations)"
   ]
  },
  {
   "cell_type": "code",
   "execution_count": 25,
   "metadata": {},
   "outputs": [],
   "source": [
    "writefiles_iip_ran(random_BGSiip,'bgs_rmag19.0',128)\n",
    "writefiles_iip_ran(random_LRGiip,'lrg_rmag25.0',128)\n",
    "writefiles_iip_ran(random_ELGiip,'elg_rmag25.0',128)"
   ]
  },
  {
   "cell_type": "code",
   "execution_count": null,
   "metadata": {},
   "outputs": [],
   "source": []
  }
 ],
 "metadata": {
  "kernelspec": {
   "display_name": "DESI master",
   "language": "python",
   "name": "desi-master"
  },
  "language_info": {
   "codemirror_mode": {
    "name": "ipython",
    "version": 3
   },
   "file_extension": ".py",
   "mimetype": "text/x-python",
   "name": "python",
   "nbconvert_exporter": "python",
   "pygments_lexer": "ipython3",
   "version": "3.8.3"
  }
 },
 "nbformat": 4,
 "nbformat_minor": 4
}
